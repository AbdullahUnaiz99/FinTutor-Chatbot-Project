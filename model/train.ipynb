{
 "cells": [
  {
   "cell_type": "code",
   "execution_count": 68,
   "id": "f2896fc3",
   "metadata": {},
   "outputs": [],
   "source": [
    "import warnings\n",
    "from langchain.document_loaders import PyPDFLoader, DirectoryLoader\n",
    "from langchain.text_splitter import RecursiveCharacterTextSplitter\n",
    "from langchain.embeddings import HuggingFaceEmbeddings\n",
    "warnings.filterwarnings(\"ignore\")"
   ]
  },
  {
   "cell_type": "code",
   "execution_count": 69,
   "id": "ba7aacf8",
   "metadata": {},
   "outputs": [],
   "source": [
    "import glob\n",
    "import os\n",
    "warnings.filterwarnings(\"ignore\")\n",
    "from langchain_community.document_loaders import DirectoryLoader, PyPDFLoader\n",
    "\n",
    "def load_pdf_file(data):\n",
    "    \"\"\"\n",
    "    Load all PDF files from the given directory using DirectoryLoader and PyPDFLoader.\n",
    "    \n",
    "    Args:\n",
    "        data (str): Path to the folder containing PDF files.\n",
    "    \n",
    "    Returns:\n",
    "        list: List of langchain Document objects.\n",
    "    \"\"\"\n",
    "    if not os.path.exists(data):\n",
    "        raise FileNotFoundError(f\"Directory not found: '{data}'\")\n",
    "        \n",
    "    loader = DirectoryLoader(data, glob=\"*.pdf\", loader_cls=PyPDFLoader)\n",
    "    docs = loader.load()\n",
    "    return docs\n"
   ]
  },
  {
   "cell_type": "code",
   "execution_count": 70,
   "id": "dc986f05",
   "metadata": {},
   "outputs": [
    {
     "name": "stderr",
     "output_type": "stream",
     "text": [
      "Ignoring wrong pointing object 1304 0 (offset 0)\n",
      "Ignoring wrong pointing object 1306 0 (offset 0)\n",
      "Ignoring wrong pointing object 1458 0 (offset 0)\n",
      "Ignoring wrong pointing object 1502 0 (offset 0)\n",
      "Ignoring wrong pointing object 1812 0 (offset 0)\n",
      "Ignoring wrong pointing object 1815 0 (offset 0)\n",
      "Ignoring wrong pointing object 3289 0 (offset 0)\n",
      "Ignoring wrong pointing object 3436 0 (offset 0)\n",
      "Ignoring wrong pointing object 4032 0 (offset 0)\n",
      "Ignoring wrong pointing object 4129 0 (offset 0)\n",
      "Ignoring wrong pointing object 4153 0 (offset 0)\n",
      "Ignoring wrong pointing object 4185 0 (offset 0)\n",
      "Ignoring wrong pointing object 4769 0 (offset 0)\n",
      "Ignoring wrong pointing object 4806 0 (offset 0)\n",
      "Ignoring wrong pointing object 4832 0 (offset 0)\n",
      "Ignoring wrong pointing object 4888 0 (offset 0)\n",
      "Ignoring wrong pointing object 5030 0 (offset 0)\n",
      "Ignoring wrong pointing object 5104 0 (offset 0)\n",
      "Ignoring wrong pointing object 5114 0 (offset 0)\n",
      "Ignoring wrong pointing object 5286 0 (offset 0)\n",
      "Ignoring wrong pointing object 5348 0 (offset 0)\n",
      "Ignoring wrong pointing object 5379 0 (offset 0)\n",
      "Ignoring wrong pointing object 5418 0 (offset 0)\n",
      "Ignoring wrong pointing object 5483 0 (offset 0)\n",
      "Ignoring wrong pointing object 5563 0 (offset 0)\n",
      "Ignoring wrong pointing object 5617 0 (offset 0)\n",
      "Ignoring wrong pointing object 6847 0 (offset 0)\n",
      "Ignoring wrong pointing object 6868 0 (offset 0)\n",
      "Ignoring wrong pointing object 6889 0 (offset 0)\n",
      "Ignoring wrong pointing object 6891 0 (offset 0)\n",
      "Ignoring wrong pointing object 6893 0 (offset 0)\n",
      "Ignoring wrong pointing object 6895 0 (offset 0)\n",
      "Ignoring wrong pointing object 7097 0 (offset 0)\n",
      "Ignoring wrong pointing object 15188 0 (offset 0)\n"
     ]
    },
    {
     "name": "stdout",
     "output_type": "stream",
     "text": [
      "Loaded 1784 documents.\n"
     ]
    }
   ],
   "source": [
    "docs = load_pdf_file('.')  # '.' means current directory\n",
    "print(f\"Loaded {len(docs)} documents.\")"
   ]
  },
  {
   "cell_type": "code",
   "execution_count": 71,
   "id": "b7c1c20e",
   "metadata": {},
   "outputs": [],
   "source": [
    "def text_split(extr_data):\n",
    "    text_splitter = RecursiveCharacterTextSplitter(chunk_size=500, chunk_overlap=20)\n",
    "    text_chunks = text_splitter.split_documents(extr_data)\n",
    "    return text_chunks"
   ]
  },
  {
   "cell_type": "code",
   "execution_count": 72,
   "id": "29ab457b",
   "metadata": {},
   "outputs": [
    {
     "name": "stdout",
     "output_type": "stream",
     "text": [
      "Length of text chunks:  11833\n"
     ]
    }
   ],
   "source": [
    "text_chunks = text_split(docs)\n",
    "print(\"Length of text chunks: \", len(text_chunks))"
   ]
  },
  {
   "cell_type": "code",
   "execution_count": 73,
   "id": "4a15055e",
   "metadata": {},
   "outputs": [],
   "source": [
    "# Download the Embedding model from Hugging Face\n",
    "def download_hugging_face_embedding():\n",
    "    embeddings = HuggingFaceEmbeddings(model_name='sentence-transformers/all-MiniLM-L6-v2')\n",
    "    return embeddings"
   ]
  },
  {
   "cell_type": "code",
   "execution_count": 74,
   "id": "b848c650",
   "metadata": {},
   "outputs": [],
   "source": [
    "from langchain.embeddings import HuggingFaceEmbeddings\n",
    "\n",
    "embeddings = download_hugging_face_embedding()\n"
   ]
  },
  {
   "cell_type": "code",
   "execution_count": 75,
   "id": "d22ff603",
   "metadata": {},
   "outputs": [],
   "source": [
    "#os.chdir(\"C:\\\\Users\\\\ENG.YAHYA\\\\Desktop\\\\projects\\\\FinTutor-Chatbot-Project\\\\model\")"
   ]
  },
  {
   "cell_type": "code",
   "execution_count": 76,
   "id": "95be94fd",
   "metadata": {},
   "outputs": [
    {
     "name": "stdout",
     "output_type": "stream",
     "text": [
      "5.0.0\n"
     ]
    }
   ],
   "source": [
    "import sentence_transformers\n",
    "print(sentence_transformers.__version__)"
   ]
  },
  {
   "cell_type": "code",
   "execution_count": 77,
   "id": "58b08396",
   "metadata": {},
   "outputs": [],
   "source": [
    "#query_result = embeddings.embed_query(\"Hello world\")\n",
    "#print(query_result)\n",
    "#len(query_result)\n"
   ]
  },
  {
   "cell_type": "code",
   "execution_count": 78,
   "id": "f798b9f0",
   "metadata": {},
   "outputs": [
    {
     "name": "stdout",
     "output_type": "stream",
     "text": [
      "sentence-transformers/all-MiniLM-L6-v2\n"
     ]
    }
   ],
   "source": [
    "print(embeddings.model_name)"
   ]
  },
  {
   "cell_type": "code",
   "execution_count": 79,
   "id": "33b53b6e",
   "metadata": {},
   "outputs": [
    {
     "data": {
      "text/plain": [
       "True"
      ]
     },
     "execution_count": 79,
     "metadata": {},
     "output_type": "execute_result"
    }
   ],
   "source": [
    "from dotenv import load_dotenv\n",
    "load_dotenv()"
   ]
  },
  {
   "cell_type": "code",
   "execution_count": 80,
   "id": "4ef02968",
   "metadata": {},
   "outputs": [],
   "source": [
    "pinecone_api_key = os.getenv(\"PINECONE_API_KEY\")\n",
    "openai_api_key = os.getenv(\"OPEN_ROUTER_API_KEY\")\n",
    "\n"
   ]
  },
  {
   "cell_type": "code",
   "execution_count": 82,
   "id": "bf7ea327",
   "metadata": {},
   "outputs": [
    {
     "data": {
      "text/plain": [
       "{\n",
       "    \"name\": \"fintutor\",\n",
       "    \"metric\": \"cosine\",\n",
       "    \"host\": \"fintutor-bcouli4.svc.aped-4627-b74a.pinecone.io\",\n",
       "    \"spec\": {\n",
       "        \"serverless\": {\n",
       "            \"cloud\": \"aws\",\n",
       "            \"region\": \"us-east-1\"\n",
       "        }\n",
       "    },\n",
       "    \"status\": {\n",
       "        \"ready\": true,\n",
       "        \"state\": \"Ready\"\n",
       "    },\n",
       "    \"vector_type\": \"dense\",\n",
       "    \"dimension\": 384,\n",
       "    \"deletion_protection\": \"disabled\",\n",
       "    \"tags\": null\n",
       "}"
      ]
     },
     "execution_count": 82,
     "metadata": {},
     "output_type": "execute_result"
    }
   ],
   "source": [
    "from pinecone.grpc import PineconeGRPC as pinecone\n",
    "from pinecone import ServerlessSpec\n",
    "import os \n",
    "\n",
    "pc = pinecone(api_key=pinecone_api_key)\n",
    "\n",
    "index_name = \"fintutor\"\n",
    "\n",
    "pc.create_index(\n",
    "    index_name,\n",
    "    dimension=384,\n",
    "    metric=\"cosine\",\n",
    "    spec=ServerlessSpec(cloud=\"aws\",region=\"us-east-1\")\n",
    ")\n",
    "\n"
   ]
  },
  {
   "cell_type": "code",
   "execution_count": 83,
   "id": "26f44873",
   "metadata": {},
   "outputs": [],
   "source": [
    "import openai\n",
    "\n",
    "openai_api_key = \"OPEN_ROUTER_API_KEY\"\n",
    "openai_api_base = \"https://openrouter.ai/api/v1\"\n"
   ]
  },
  {
   "cell_type": "code",
   "execution_count": 84,
   "id": "d98687ae",
   "metadata": {},
   "outputs": [],
   "source": [
    "import os\n",
    "pinecone_api_key = os.getenv(\"PINECONE_API_KEY\")\n",
    "openai_api_key = os.getenv(\"OPEN_ROUTER_API_KEY\")\n"
   ]
  },
  {
   "cell_type": "code",
   "execution_count": 85,
   "id": "eb14ca07",
   "metadata": {},
   "outputs": [],
   "source": [
    "from langchain_pinecone import PineconeVectorStore\n",
    "docsearch=PineconeVectorStore.from_documents(\n",
    "    documents = text_chunks,\n",
    "    index_name= index_name,\n",
    "    embedding=embeddings\n",
    "    )"
   ]
  },
  {
   "cell_type": "code",
   "execution_count": 86,
   "id": "4844228f",
   "metadata": {},
   "outputs": [],
   "source": [
    "## Load the Existing index\n",
    "from langchain_pinecone import PineconeVectorStore\n",
    "## Embed the each chunk and upsert the embeddings into your pincone index.\n",
    "docsearch=PineconeVectorStore.from_existing_index(\n",
    "    index_name=index_name,\n",
    "    embedding=embeddings\n",
    ")"
   ]
  },
  {
   "cell_type": "code",
   "execution_count": 87,
   "id": "97e3fc51",
   "metadata": {},
   "outputs": [
    {
     "data": {
      "text/plain": [
       "<langchain_pinecone.vectorstores.PineconeVectorStore at 0x22994a35570>"
      ]
     },
     "execution_count": 87,
     "metadata": {},
     "output_type": "execute_result"
    }
   ],
   "source": [
    "docsearch"
   ]
  },
  {
   "cell_type": "code",
   "execution_count": 89,
   "id": "af6622b4",
   "metadata": {},
   "outputs": [],
   "source": [
    "retriver = docsearch.as_retriever(search_type=\"similarity\",search_kwargs={\"k\":3})"
   ]
  },
  {
   "cell_type": "code",
   "execution_count": 90,
   "id": "05e3994a",
   "metadata": {},
   "outputs": [],
   "source": [
    "retrived_docs = retriver.invoke(\"what is the bond\")\n"
   ]
  },
  {
   "cell_type": "code",
   "execution_count": 91,
   "id": "0d46215e",
   "metadata": {},
   "outputs": [
    {
     "data": {
      "text/plain": [
       "[Document(id='e834ed22-18bf-4ac4-99a5-f93e78a9f3c2', metadata={'creationdate': '2022-03-16T14:06:07-05:00', 'creator': 'PyPDF', 'moddate': '2022-03-17T09:02:07-05:00', 'page': 326.0, 'page_label': '327', 'producer': 'Prince 14.2 (www.princexml.com)', 'source': 'Principle_of_finance.pdf', 'title': 'Principles of Finance', 'total_pages': 643.0}, page_content='Summary\\n10.1 Characteristics of Bonds\\nBonds are typically a basic form of investment that entails a straightforward financial agreement between\\nissuer and purchaser. There are three primary categories of bonds: government bonds, corporate bonds, and\\nconvertible bonds. These different types of bond vary depending on their issuer, length until maturity, interest\\nrate, and risk.\\n10.2 Bond Valuation'),\n",
       " Document(id='9e041de7-408d-46e2-b635-0c2953facc39', metadata={'creationdate': '2022-03-16T14:06:07-05:00', 'creator': 'PyPDF', 'moddate': '2022-03-17T09:02:07-05:00', 'page': 326.0, 'page_label': '327', 'producer': 'Prince 14.2 (www.princexml.com)', 'source': 'Principle_of_finance.pdf', 'title': 'Principles of Finance', 'total_pages': 643.0}, page_content='Key Terms\\nbond call a feature of certain bonds or other fixed-income instruments that allows the issuer to repurchase\\nand retire these instruments before maturity\\nbond price the present, discounted value of the future cash stream generated by a bond; the sum of the\\npresent values of all likely coupon payments and the present value of the par value at maturity\\nbond ratings grades assigned to bonds by rating services that indicate their overall credit quality'),\n",
       " Document(id='d80350e8-93c2-4c28-887c-1405932df223', metadata={'creationdate': '2022-03-16T14:06:07-05:00', 'creator': 'PyPDF', 'moddate': '2022-03-17T09:02:07-05:00', 'page': 297.0, 'page_label': '298', 'producer': 'Prince 14.2 (www.princexml.com)', 'source': 'Principle_of_finance.pdf', 'title': 'Principles of Finance', 'total_pages': 643.0}, page_content='Let’s say that you buy a $1,000 bond that was issued by Apple Inc. at 5% interest, paid annually, for 20 years.\\nHere, you are the lender, and Apple Inc. is the borrower.\\nLINK TO LEARNING\\nInformational Basics on Bonds\\nThis video (https://openstax.org/r/the-basics-of-bonds) from MoneyWeek editor Tim Bennett provides\\ninformation about the basics of bonds—what they are, how they work, why companies and governments\\nissue them, and why investors might buy them.\\nBasic Terminology')]"
      ]
     },
     "execution_count": 91,
     "metadata": {},
     "output_type": "execute_result"
    }
   ],
   "source": [
    "retrived_docs"
   ]
  },
  {
   "cell_type": "code",
   "execution_count": 102,
   "id": "5d7a0f72",
   "metadata": {},
   "outputs": [],
   "source": [
    "from langchain_openai import ChatOpenAI\n",
    "llm = ChatOpenAI(\n",
    "    openai_api_key = openai_api_key,\n",
    "    openai_api_base = openai_api_base,\n",
    "    model=\"mistralai/mistral-7b-instruct:free\", \n",
    "    temperature=0.4,\n",
    "    max_tokens=500,\n",
    ")\n",
    "\n"
   ]
  },
  {
   "cell_type": "code",
   "execution_count": null,
   "id": "260c5b16",
   "metadata": {},
   "outputs": [],
   "source": [
    "from langchain.chains import create_retrieval_chain\n",
    "from langchain.chains.combine_documents import create_stuff_documents_chain\n",
    "from langchain_core.prompts import ChatPromptTemplate\n",
    "\n",
    "system_prompt = (\n",
    "    \"You are a helpful finance tutor. \"\n",
    "    \"Use the following pieces of retrieved context to answer the student's question. \"\n",
    "    \"If you don't know the answer, just say that you don't know. \"\n",
    "    \"Use clear, simple language and keep your answer concise (maximum three sentences). \"\n",
    "    \"If possible, provide a brief example or explanation.\"\n",
    "    \"\\n\\n\"\n",
    "    \"Context: {context}\"\n",
    ")\n",
    "\n",
    "prompt = ChatPromptTemplate.from_messages(\n",
    "    [\n",
    "        (\"system\", system_prompt),\n",
    "        (\"human\", \"{input}\"),\n",
    "    ]\n",
    "\n",
    ")\n",
    "\n"
   ]
  },
  {
   "cell_type": "code",
   "execution_count": 109,
   "id": "6b45d630",
   "metadata": {},
   "outputs": [],
   "source": [
    "question_answer_chain = create_stuff_documents_chain(llm, prompt)\n",
    "rag_chain = create_retrieval_chain(retriver, question_answer_chain)\n"
   ]
  },
  {
   "cell_type": "code",
   "execution_count": 110,
   "id": "e8dd06a8",
   "metadata": {},
   "outputs": [
    {
     "name": "stdout",
     "output_type": "stream",
     "text": [
      " Finance is the study of managing, moving, and raising money, with a focus on the trade-off between risk and expected return. It is divided into three main areas: business finance, investments, and financial markets and institutions. In an organization, finance plays a crucial role in implementing policy objectives, monitoring results, and responding to strategic and tactical changes. It acts as a linchpin that connects and directs various parts of a business or organization.\n"
     ]
    }
   ],
   "source": [
    "response = rag_chain.invoke({\"input\": \"What is Finance?\"})\n",
    "print(response[\"answer\"])"
   ]
  },
  {
   "cell_type": "code",
   "execution_count": null,
   "id": "3a7595c1",
   "metadata": {},
   "outputs": [],
   "source": []
  }
 ],
 "metadata": {
  "kernelspec": {
   "display_name": "Python 3",
   "language": "python",
   "name": "python3"
  },
  "language_info": {
   "codemirror_mode": {
    "name": "ipython",
    "version": 3
   },
   "file_extension": ".py",
   "mimetype": "text/x-python",
   "name": "python",
   "nbconvert_exporter": "python",
   "pygments_lexer": "ipython3",
   "version": "3.10.18"
  }
 },
 "nbformat": 4,
 "nbformat_minor": 5
}
