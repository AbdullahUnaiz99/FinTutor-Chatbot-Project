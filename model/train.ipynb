{
 "cells": [
  {
   "cell_type": "code",
   "execution_count": null,
   "id": "f2896fc3",
   "metadata": {},
   "outputs": [],
   "source": [
    "import warnings\n",
    "from langchain.document_loaders import PyPDFLoader, DirectoryLoader\n",
    "from langchain.text_splitter import RecursiveCharacterTextSplitter\n",
    "from langchain.embeddings import HuggingFaceEmbeddings\n",
    "warnings.filterwarnings(\"ignore\")"
   ]
  },
  {
   "cell_type": "code",
   "execution_count": 26,
   "id": "ba7aacf8",
   "metadata": {},
   "outputs": [],
   "source": [
    "import glob\n",
    "import os\n",
    "warnings.filterwarnings(\"ignore\")\n",
    "from langchain_community.document_loaders import DirectoryLoader, PyPDFLoader\n",
    "\n",
    "def load_pdf_file(data):\n",
    "    \"\"\"\n",
    "    Load all PDF files from the given directory using DirectoryLoader and PyPDFLoader.\n",
    "    \n",
    "    Args:\n",
    "        data (str): Path to the folder containing PDF files.\n",
    "    \n",
    "    Returns:\n",
    "        list: List of langchain Document objects.\n",
    "    \"\"\"\n",
    "    if not os.path.exists(data):\n",
    "        raise FileNotFoundError(f\"Directory not found: '{data}'\")\n",
    "        \n",
    "    loader = DirectoryLoader(data, glob=\"*.pdf\", loader_cls=PyPDFLoader)\n",
    "    docs = loader.load()\n",
    "    return docs\n"
   ]
  },
  {
   "cell_type": "code",
   "execution_count": 27,
   "id": "dc986f05",
   "metadata": {},
   "outputs": [
    {
     "name": "stderr",
     "output_type": "stream",
     "text": [
      "Ignoring wrong pointing object 1304 0 (offset 0)\n",
      "Ignoring wrong pointing object 1306 0 (offset 0)\n",
      "Ignoring wrong pointing object 1458 0 (offset 0)\n",
      "Ignoring wrong pointing object 1502 0 (offset 0)\n",
      "Ignoring wrong pointing object 1812 0 (offset 0)\n",
      "Ignoring wrong pointing object 1815 0 (offset 0)\n",
      "Ignoring wrong pointing object 3289 0 (offset 0)\n",
      "Ignoring wrong pointing object 3436 0 (offset 0)\n",
      "Ignoring wrong pointing object 4032 0 (offset 0)\n",
      "Ignoring wrong pointing object 4129 0 (offset 0)\n",
      "Ignoring wrong pointing object 4153 0 (offset 0)\n",
      "Ignoring wrong pointing object 4185 0 (offset 0)\n",
      "Ignoring wrong pointing object 4769 0 (offset 0)\n",
      "Ignoring wrong pointing object 4806 0 (offset 0)\n",
      "Ignoring wrong pointing object 4832 0 (offset 0)\n",
      "Ignoring wrong pointing object 4888 0 (offset 0)\n",
      "Ignoring wrong pointing object 5030 0 (offset 0)\n",
      "Ignoring wrong pointing object 5104 0 (offset 0)\n",
      "Ignoring wrong pointing object 5114 0 (offset 0)\n",
      "Ignoring wrong pointing object 5286 0 (offset 0)\n",
      "Ignoring wrong pointing object 5348 0 (offset 0)\n",
      "Ignoring wrong pointing object 5379 0 (offset 0)\n",
      "Ignoring wrong pointing object 5418 0 (offset 0)\n",
      "Ignoring wrong pointing object 5483 0 (offset 0)\n",
      "Ignoring wrong pointing object 5563 0 (offset 0)\n",
      "Ignoring wrong pointing object 5617 0 (offset 0)\n",
      "Ignoring wrong pointing object 6847 0 (offset 0)\n",
      "Ignoring wrong pointing object 6868 0 (offset 0)\n",
      "Ignoring wrong pointing object 6889 0 (offset 0)\n",
      "Ignoring wrong pointing object 6891 0 (offset 0)\n",
      "Ignoring wrong pointing object 6893 0 (offset 0)\n",
      "Ignoring wrong pointing object 6895 0 (offset 0)\n",
      "Ignoring wrong pointing object 7097 0 (offset 0)\n",
      "Ignoring wrong pointing object 15188 0 (offset 0)\n"
     ]
    },
    {
     "name": "stdout",
     "output_type": "stream",
     "text": [
      "Loaded 1784 documents.\n"
     ]
    }
   ],
   "source": [
    "docs = load_pdf_file('.')  # '.' means current directory\n",
    "print(f\"Loaded {len(docs)} documents.\")"
   ]
  },
  {
   "cell_type": "code",
   "execution_count": 7,
   "id": "b7c1c20e",
   "metadata": {},
   "outputs": [],
   "source": [
    "def text_split(extr_data):\n",
    "    text_splitter = RecursiveCharacterTextSplitter(chunk_size=500, chunk_overlap=20)\n",
    "    text_chunks = text_splitter.split_documents(extr_data)\n",
    "    return text_chunks"
   ]
  },
  {
   "cell_type": "code",
   "execution_count": 8,
   "id": "29ab457b",
   "metadata": {},
   "outputs": [
    {
     "name": "stdout",
     "output_type": "stream",
     "text": [
      "Length of text chunks:  11833\n"
     ]
    }
   ],
   "source": [
    "text_chunks = text_split(docs)\n",
    "print(\"Length of text chunks: \", len(text_chunks))"
   ]
  },
  {
   "cell_type": "code",
   "execution_count": 10,
   "id": "4a15055e",
   "metadata": {},
   "outputs": [],
   "source": [
    "# Download the Embedding model from Hugging Face\n",
    "def download_hugging_face_embedding():\n",
    "    embeddings = HuggingFaceEmbeddings(model_name='sentence-transformers/all-MiniLM-L6-v2')\n",
    "    return embeddings"
   ]
  },
  {
   "cell_type": "code",
   "execution_count": 11,
   "id": "b848c650",
   "metadata": {},
   "outputs": [
    {
     "name": "stderr",
     "output_type": "stream",
     "text": [
      "C:\\Users\\ENG.YAHYA\\AppData\\Local\\Temp\\ipykernel_27116\\361975650.py:3: LangChainDeprecationWarning: The class `HuggingFaceEmbeddings` was deprecated in LangChain 0.2.2 and will be removed in 1.0. An updated version of the class exists in the :class:`~langchain-huggingface package and should be used instead. To use it run `pip install -U :class:`~langchain-huggingface` and import as `from :class:`~langchain_huggingface import HuggingFaceEmbeddings``.\n",
      "  embeddings = HuggingFaceEmbeddings(model_name='sentence-transformers/all-MiniLM-L6-v2')\n"
     ]
    }
   ],
   "source": [
    "from langchain.embeddings import HuggingFaceEmbeddings\n",
    "\n",
    "embeddings = download_hugging_face_embedding()\n"
   ]
  },
  {
   "cell_type": "code",
   "execution_count": 12,
   "id": "d22ff603",
   "metadata": {},
   "outputs": [],
   "source": [
    "#os.chdir(\"C:\\\\Users\\\\ENG.YAHYA\\\\Desktop\\\\projects\\\\FinTutor-Chatbot-Project\\\\model\")"
   ]
  },
  {
   "cell_type": "code",
   "execution_count": 13,
   "id": "95be94fd",
   "metadata": {},
   "outputs": [
    {
     "name": "stdout",
     "output_type": "stream",
     "text": [
      "5.0.0\n"
     ]
    }
   ],
   "source": [
    "import sentence_transformers\n",
    "print(sentence_transformers.__version__)"
   ]
  },
  {
   "cell_type": "code",
   "execution_count": 50,
   "id": "58b08396",
   "metadata": {},
   "outputs": [],
   "source": [
    "#query_result = embeddings.embed_query(\"Hello world\")\n",
    "#print(query_result)\n",
    "#len(query_result)\n"
   ]
  },
  {
   "cell_type": "code",
   "execution_count": 15,
   "id": "f798b9f0",
   "metadata": {},
   "outputs": [
    {
     "name": "stdout",
     "output_type": "stream",
     "text": [
      "sentence-transformers/all-MiniLM-L6-v2\n"
     ]
    }
   ],
   "source": [
    "print(embeddings.model_name)"
   ]
  },
  {
   "cell_type": "code",
   "execution_count": 43,
   "id": "33b53b6e",
   "metadata": {},
   "outputs": [
    {
     "data": {
      "text/plain": [
       "True"
      ]
     },
     "execution_count": 43,
     "metadata": {},
     "output_type": "execute_result"
    }
   ],
   "source": [
    "from dotenv import load_dotenv\n",
    "load_dotenv()"
   ]
  },
  {
   "cell_type": "code",
   "execution_count": 44,
   "id": "4ef02968",
   "metadata": {},
   "outputs": [],
   "source": [
    "pinecone_api_key = os.getenv(\"PINECONE_API_KEY\")\n",
    "openai_api_key = os.getenv(\"OPENAI_API_KEY\")\n",
    "\n"
   ]
  },
  {
   "cell_type": "code",
   "execution_count": 21,
   "id": "bf7ea327",
   "metadata": {},
   "outputs": [
    {
     "data": {
      "text/plain": [
       "{\n",
       "    \"name\": \"fintutor\",\n",
       "    \"metric\": \"cosine\",\n",
       "    \"host\": \"fintutor-bcouli4.svc.aped-4627-b74a.pinecone.io\",\n",
       "    \"spec\": {\n",
       "        \"serverless\": {\n",
       "            \"cloud\": \"aws\",\n",
       "            \"region\": \"us-east-1\"\n",
       "        }\n",
       "    },\n",
       "    \"status\": {\n",
       "        \"ready\": true,\n",
       "        \"state\": \"Ready\"\n",
       "    },\n",
       "    \"vector_type\": \"dense\",\n",
       "    \"dimension\": 384,\n",
       "    \"deletion_protection\": \"disabled\",\n",
       "    \"tags\": null\n",
       "}"
      ]
     },
     "execution_count": 21,
     "metadata": {},
     "output_type": "execute_result"
    }
   ],
   "source": [
    "from pinecone.grpc import PineconeGRPC as pinecone\n",
    "from pinecone import ServerlessSpec\n",
    "import os \n",
    "\n",
    "pc = pinecone(api_key=pinecone_api_key)\n",
    "\n",
    "index_name = \"fintutor\"\n",
    "\n",
    "pc.create_index(\n",
    "    index_name,\n",
    "    dimension=384,\n",
    "    metric=\"cosine\",\n",
    "    spec=ServerlessSpec(cloud=\"aws\",region=\"us-east-1\")\n",
    ")\n",
    "\n"
   ]
  },
  {
   "cell_type": "code",
   "execution_count": 45,
   "id": "d98687ae",
   "metadata": {},
   "outputs": [],
   "source": [
    "import os\n",
    "pinecone_api_key = os.getenv(\"PINECONE_API_KEY\")\n",
    "openai_api_key = os.getenv(\"OPENAI_API_KEY\")\n"
   ]
  },
  {
   "cell_type": "code",
   "execution_count": 30,
   "id": "eb14ca07",
   "metadata": {},
   "outputs": [],
   "source": [
    "from langchain_pinecone import PineconeVectorStore\n",
    "docsearch=PineconeVectorStore.from_documents(\n",
    "    documents = text_chunks,\n",
    "    index_name= index_name,\n",
    "    embedding=embeddings\n",
    "    )"
   ]
  },
  {
   "cell_type": "code",
   "execution_count": 31,
   "id": "4844228f",
   "metadata": {},
   "outputs": [],
   "source": [
    "## Load the Existing index\n",
    "from langchain_pinecone import PineconeVectorStore\n",
    "## Embed the each chunk and upsert the embeddings into your pincone index.\n",
    "docsearch=PineconeVectorStore.from_existing_index(\n",
    "    index_name=index_name,\n",
    "    embedding=embeddings\n",
    ")"
   ]
  },
  {
   "cell_type": "code",
   "execution_count": 32,
   "id": "97e3fc51",
   "metadata": {},
   "outputs": [
    {
     "data": {
      "text/plain": [
       "<langchain_pinecone.vectorstores.PineconeVectorStore at 0x22994038400>"
      ]
     },
     "execution_count": 32,
     "metadata": {},
     "output_type": "execute_result"
    }
   ],
   "source": [
    "docsearch"
   ]
  },
  {
   "cell_type": "code",
   "execution_count": 33,
   "id": "af6622b4",
   "metadata": {},
   "outputs": [],
   "source": [
    "retriver = docsearch.as_retriever(search_type=\"similarity\",search_kwargs={\"k\":3})"
   ]
  },
  {
   "cell_type": "code",
   "execution_count": 37,
   "id": "05e3994a",
   "metadata": {},
   "outputs": [],
   "source": [
    "retrived_docs = retriver.invoke(\"What is the Bond\")"
   ]
  },
  {
   "cell_type": "code",
   "execution_count": 38,
   "id": "0d46215e",
   "metadata": {},
   "outputs": [
    {
     "data": {
      "text/plain": [
       "[Document(id='1957fd2f-aa6c-4fea-a514-1bff5b4d4047', metadata={'creationdate': '2022-03-16T14:06:07-05:00', 'creator': 'PyPDF', 'moddate': '2022-03-17T09:02:07-05:00', 'page': 326.0, 'page_label': '327', 'producer': 'Prince 14.2 (www.princexml.com)', 'source': 'Principle_of_finance.pdf', 'title': 'Principles of Finance', 'total_pages': 643.0}, page_content='Summary\\n10.1 Characteristics of Bonds\\nBonds are typically a basic form of investment that entails a straightforward financial agreement between\\nissuer and purchaser. There are three primary categories of bonds: government bonds, corporate bonds, and\\nconvertible bonds. These different types of bond vary depending on their issuer, length until maturity, interest\\nrate, and risk.\\n10.2 Bond Valuation'),\n",
       " Document(id='70247869-4640-4794-ab60-56d7db3250e6', metadata={'creationdate': '2022-03-16T14:06:07-05:00', 'creator': 'PyPDF', 'moddate': '2022-03-17T09:02:07-05:00', 'page': 326.0, 'page_label': '327', 'producer': 'Prince 14.2 (www.princexml.com)', 'source': 'Principle_of_finance.pdf', 'title': 'Principles of Finance', 'total_pages': 643.0}, page_content='Key Terms\\nbond call a feature of certain bonds or other fixed-income instruments that allows the issuer to repurchase\\nand retire these instruments before maturity\\nbond price the present, discounted value of the future cash stream generated by a bond; the sum of the\\npresent values of all likely coupon payments and the present value of the par value at maturity\\nbond ratings grades assigned to bonds by rating services that indicate their overall credit quality'),\n",
       " Document(id='e8ed5e40-532b-4540-a628-caec32b0df9a', metadata={'creationdate': '2022-03-16T14:06:07-05:00', 'creator': 'PyPDF', 'moddate': '2022-03-17T09:02:07-05:00', 'page': 297.0, 'page_label': '298', 'producer': 'Prince 14.2 (www.princexml.com)', 'source': 'Principle_of_finance.pdf', 'title': 'Principles of Finance', 'total_pages': 643.0}, page_content='Let’s say that you buy a $1,000 bond that was issued by Apple Inc. at 5% interest, paid annually, for 20 years.\\nHere, you are the lender, and Apple Inc. is the borrower.\\nLINK TO LEARNING\\nInformational Basics on Bonds\\nThis video (https://openstax.org/r/the-basics-of-bonds) from MoneyWeek editor Tim Bennett provides\\ninformation about the basics of bonds—what they are, how they work, why companies and governments\\nissue them, and why investors might buy them.\\nBasic Terminology')]"
      ]
     },
     "execution_count": 38,
     "metadata": {},
     "output_type": "execute_result"
    }
   ],
   "source": [
    "retrived_docs"
   ]
  },
  {
   "cell_type": "code",
   "execution_count": 46,
   "id": "5d7a0f72",
   "metadata": {},
   "outputs": [],
   "source": [
    "from langchain_openai import OpenAI\n",
    "llm = OpenAI(temperature=0.4, max_tokens=500)\n"
   ]
  },
  {
   "cell_type": "code",
   "execution_count": 49,
   "id": "260c5b16",
   "metadata": {},
   "outputs": [],
   "source": [
    "from langchain.chains import create_retrieval_chain\n",
    "from langchain.chains.combine_documents import create_stuff_documents_chain\n",
    "from langchain_core.prompts import ChatPromptTemplate\n",
    "\n",
    "system_prompt = (\n",
    "    \"You are a helpful finance tutor. \"\n",
    "    \"Use the following pieces of retrieved context to answer the student's question. \"\n",
    "    \"If you don't know the answer, just say that you don't know. \"\n",
    "    \"Use clear, simple language and keep your answer concise (maximum three sentences). \"\n",
    "    \"If possible, provide a brief example or explanation.\"\n",
    "    \"\\n\\n\"\n",
    "    \"Context: {context}\"\n",
    ")\n",
    "\n",
    "prompt = ChatPromptTemplate.from_messages(\n",
    "    [\n",
    "        (\"system\", system_prompt),\n",
    "        (\"human\", \"{input}\"),\n",
    "    ]\n",
    "\n",
    ")\n",
    "\n",
    "\n"
   ]
  },
  {
   "cell_type": "code",
   "execution_count": null,
   "id": "6b45d630",
   "metadata": {},
   "outputs": [],
   "source": []
  }
 ],
 "metadata": {
  "kernelspec": {
   "display_name": "Python 3",
   "language": "python",
   "name": "python3"
  },
  "language_info": {
   "codemirror_mode": {
    "name": "ipython",
    "version": 3
   },
   "file_extension": ".py",
   "mimetype": "text/x-python",
   "name": "python",
   "nbconvert_exporter": "python",
   "pygments_lexer": "ipython3",
   "version": "3.10.18"
  }
 },
 "nbformat": 4,
 "nbformat_minor": 5
}
